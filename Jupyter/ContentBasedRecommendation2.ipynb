{
 "cells": [
  {
   "cell_type": "code",
   "execution_count": 2,
   "id": "e02c464d-8095-47d2-b75f-5fc6e6f56431",
   "metadata": {},
   "outputs": [
    {
     "data": {
      "text/html": [
       "<div>\n",
       "<style scoped>\n",
       "    .dataframe tbody tr th:only-of-type {\n",
       "        vertical-align: middle;\n",
       "    }\n",
       "\n",
       "    .dataframe tbody tr th {\n",
       "        vertical-align: top;\n",
       "    }\n",
       "\n",
       "    .dataframe thead th {\n",
       "        text-align: right;\n",
       "    }\n",
       "</style>\n",
       "<table border=\"1\" class=\"dataframe\">\n",
       "  <thead>\n",
       "    <tr style=\"text-align: right;\">\n",
       "      <th></th>\n",
       "      <th>movieId</th>\n",
       "      <th>title</th>\n",
       "      <th>genres</th>\n",
       "      <th>year</th>\n",
       "      <th>genre_list</th>\n",
       "      <th>combined_features</th>\n",
       "    </tr>\n",
       "  </thead>\n",
       "  <tbody>\n",
       "    <tr>\n",
       "      <th>0</th>\n",
       "      <td>415.0</td>\n",
       "      <td>toy story (1995)</td>\n",
       "      <td>Adventure|Animation|Children|Comedy|Fantasy</td>\n",
       "      <td>1995</td>\n",
       "      <td>['Adventure', 'Animation', 'Children', 'Comedy...</td>\n",
       "      <td>toy story (1995) Adventure|Animation|Children|...</td>\n",
       "    </tr>\n",
       "    <tr>\n",
       "      <th>1</th>\n",
       "      <td>191.0</td>\n",
       "      <td>jumanji (1995)</td>\n",
       "      <td>Adventure|Children|Fantasy</td>\n",
       "      <td>1995</td>\n",
       "      <td>['Adventure', 'Children', 'Fantasy']</td>\n",
       "      <td>jumanji (1995) Adventure|Children|Fantasy</td>\n",
       "    </tr>\n",
       "    <tr>\n",
       "      <th>2</th>\n",
       "      <td>941.0</td>\n",
       "      <td>grumpier old men (1995)</td>\n",
       "      <td>Comedy|Romance</td>\n",
       "      <td>1995</td>\n",
       "      <td>['Comedy', 'Romance']</td>\n",
       "      <td>grumpier old men (1995) Comedy|Romance</td>\n",
       "    </tr>\n",
       "    <tr>\n",
       "      <th>3</th>\n",
       "      <td>3313.0</td>\n",
       "      <td>waiting to exhale (1995)</td>\n",
       "      <td>Comedy|Drama|Romance</td>\n",
       "      <td>1995</td>\n",
       "      <td>['Comedy', 'Drama', 'Romance']</td>\n",
       "      <td>waiting to exhale (1995) Comedy|Drama|Romance</td>\n",
       "    </tr>\n",
       "    <tr>\n",
       "      <th>4</th>\n",
       "      <td>942.0</td>\n",
       "      <td>father of the bride part ii (1995)</td>\n",
       "      <td>Comedy</td>\n",
       "      <td>1995</td>\n",
       "      <td>['Comedy']</td>\n",
       "      <td>father of the bride part ii (1995) Comedy</td>\n",
       "    </tr>\n",
       "  </tbody>\n",
       "</table>\n",
       "</div>"
      ],
      "text/plain": [
       "   movieId                               title  \\\n",
       "0    415.0                    toy story (1995)   \n",
       "1    191.0                      jumanji (1995)   \n",
       "2    941.0             grumpier old men (1995)   \n",
       "3   3313.0            waiting to exhale (1995)   \n",
       "4    942.0  father of the bride part ii (1995)   \n",
       "\n",
       "                                        genres  year  \\\n",
       "0  Adventure|Animation|Children|Comedy|Fantasy  1995   \n",
       "1                   Adventure|Children|Fantasy  1995   \n",
       "2                               Comedy|Romance  1995   \n",
       "3                         Comedy|Drama|Romance  1995   \n",
       "4                                       Comedy  1995   \n",
       "\n",
       "                                          genre_list  \\\n",
       "0  ['Adventure', 'Animation', 'Children', 'Comedy...   \n",
       "1               ['Adventure', 'Children', 'Fantasy']   \n",
       "2                              ['Comedy', 'Romance']   \n",
       "3                     ['Comedy', 'Drama', 'Romance']   \n",
       "4                                         ['Comedy']   \n",
       "\n",
       "                                   combined_features  \n",
       "0  toy story (1995) Adventure|Animation|Children|...  \n",
       "1          jumanji (1995) Adventure|Children|Fantasy  \n",
       "2             grumpier old men (1995) Comedy|Romance  \n",
       "3      waiting to exhale (1995) Comedy|Drama|Romance  \n",
       "4          father of the bride part ii (1995) Comedy  "
      ]
     },
     "metadata": {},
     "output_type": "display_data"
    }
   ],
   "source": [
    "import pandas as pd\n",
    "from IPython.display import display\n",
    "\n",
    "# Load Datasets\n",
    "movies = pd.read_csv('../data/cleaned_remapped_movies.csv')\n",
    "ratings = pd.read_csv('../data/cleaned_remapped_ratings.csv')\n",
    "\n",
    "display(movies.head(5))"
   ]
  },
  {
   "cell_type": "code",
   "execution_count": 4,
   "id": "4a130ab3-78b9-445c-b69a-720449fedaf4",
   "metadata": {},
   "outputs": [
    {
     "name": "stdout",
     "output_type": "stream",
     "text": [
      "title\n",
      "toy story (1995)           0\n",
      "jumanji (1995)             1\n",
      "grumpier old men (1995)    2\n",
      "dtype: int64\n"
     ]
    }
   ],
   "source": [
    "import h5py\n",
    "\n",
    "# Create a Series to map movie titles to their indices\n",
    "movie_indices = pd.Series(movies.index, index=movies['title']).drop_duplicates()\n",
    "print(movie_indices.head(3))\n",
    "\n",
    "# # Save the movie indices mapping\n",
    "# with open('../models/movie_indices.pkl', 'wb') as f:\n",
    "#     pickle.dump(movie_indices, f)"
   ]
  },
  {
   "cell_type": "code",
   "execution_count": 6,
   "id": "92d5b3a2-c043-4bc5-9330-9d9d58fe1e64",
   "metadata": {},
   "outputs": [],
   "source": [
    "# Recommendation function\n",
    "\n",
    "def recommend_content_based(title, num_recommendations=10, h5_file='../models/cosine_sim.h5'):\n",
    "    # Normalize the movie title\n",
    "    normalized_title = title.lower().strip()\n",
    "    \n",
    "    # Get the index of the input movie\n",
    "    if normalized_title not in movie_indices:\n",
    "        raise ValueError(f\"Movie '{title}' not found in the dataset.\")\n",
    "    idx = movie_indices[normalized_title]\n",
    "    \n",
    "    # Open the HDF5 file and retrieve the relevant row (cosine similarity scores)\n",
    "    # Instead of loading the entire cosine_sim matrix into memory, retrieve only the relevant row using the index idx.\n",
    "    with h5py.File(h5_file, 'r') as f:\n",
    "        sim_scores = f['cosine_sim'][idx]  # Retrieve the row corresponding to the movie\n",
    "\n",
    "    # Process the similarity scores to get recommendations\n",
    "    sim_scores = list(enumerate(sim_scores))\n",
    "    sim_scores = sorted(sim_scores, key=lambda x: x[1], reverse=True)[1:num_recommendations+1]  # Skip the movie itself\n",
    "    recommended_indices = [i[0] for i in sim_scores]\n",
    "    \n",
    "    # Retrieve recommended movie titles and convert to title case\n",
    "    recommended_titles = movies['title'].iloc[recommended_indices].str.title()\n",
    "    return recommended_titles"
   ]
  },
  {
   "cell_type": "code",
   "execution_count": 12,
   "id": "6a14adb4-40b6-4b2d-9375-7eebf1c13e8b",
   "metadata": {},
   "outputs": [
    {
     "name": "stdout",
     "output_type": "stream",
     "text": [
      "3021                    Toy Story 2 (1999)\n",
      "60616                   Toy Story 4 (2019)\n",
      "14811                   Toy Story 3 (2010)\n",
      "20500           Toy Story Of Terror (2013)\n",
      "22640    Toy Story Toons: Small Fry (2011)\n",
      "Name: title, dtype: object\n",
      "\n",
      "\n",
      "\n",
      "22222       Nixon By Nixon: In His Own Words (2014)\n",
      "20067                              Our Nixon (2013)\n",
      "12877                            Frost/Nixon (2008)\n",
      "38917                          Elvis & Nixon (2016)\n",
      "75425                    Searching For Nixon (2006)\n",
      "37706             Dad'S In Heaven With Nixon (2007)\n",
      "63350             American Experience: Nixon (1990)\n",
      "1783                                  Go Now (1995)\n",
      "23335                      Elvis Meets Nixon (1997)\n",
      "9449     Assassination Of Richard Nixon, The (2004)\n",
      "Name: title, dtype: object\n"
     ]
    }
   ],
   "source": [
    "# Test the Recommendation function\n",
    "print(recommend_content_based('Toy Story (1995)', num_recommendations=5))\n",
    "print(\"\\n\\n\")\n",
    "print(recommend_content_based('Nixon (1995)'))"
   ]
  },
  {
   "cell_type": "code",
   "execution_count": null,
   "id": "2259817f-bbe7-49a3-a8d5-dd1941ccc08d",
   "metadata": {},
   "outputs": [],
   "source": []
  }
 ],
 "metadata": {
  "kernelspec": {
   "display_name": "Python [conda env:base] *",
   "language": "python",
   "name": "conda-base-py"
  },
  "language_info": {
   "codemirror_mode": {
    "name": "ipython",
    "version": 3
   },
   "file_extension": ".py",
   "mimetype": "text/x-python",
   "name": "python",
   "nbconvert_exporter": "python",
   "pygments_lexer": "ipython3",
   "version": "3.12.4"
  }
 },
 "nbformat": 4,
 "nbformat_minor": 5
}
