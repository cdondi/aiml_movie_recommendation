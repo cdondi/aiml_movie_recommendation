{
 "cells": [
  {
   "cell_type": "code",
   "execution_count": 155,
   "id": "b43c4b4f-a150-4a2d-98ce-e991ee49425c",
   "metadata": {},
   "outputs": [
    {
     "name": "stdout",
     "output_type": "stream",
     "text": [
      "Movies Dataset :\n",
      "Row Count :  87585\n"
     ]
    },
    {
     "data": {
      "text/html": [
       "<div>\n",
       "<style scoped>\n",
       "    .dataframe tbody tr th:only-of-type {\n",
       "        vertical-align: middle;\n",
       "    }\n",
       "\n",
       "    .dataframe tbody tr th {\n",
       "        vertical-align: top;\n",
       "    }\n",
       "\n",
       "    .dataframe thead th {\n",
       "        text-align: right;\n",
       "    }\n",
       "</style>\n",
       "<table border=\"1\" class=\"dataframe\">\n",
       "  <thead>\n",
       "    <tr style=\"text-align: right;\">\n",
       "      <th></th>\n",
       "      <th>movieId</th>\n",
       "      <th>title</th>\n",
       "      <th>genres</th>\n",
       "    </tr>\n",
       "  </thead>\n",
       "  <tbody>\n",
       "    <tr>\n",
       "      <th>0</th>\n",
       "      <td>1</td>\n",
       "      <td>Toy Story (1995)</td>\n",
       "      <td>Adventure|Animation|Children|Comedy|Fantasy</td>\n",
       "    </tr>\n",
       "    <tr>\n",
       "      <th>1</th>\n",
       "      <td>2</td>\n",
       "      <td>Jumanji (1995)</td>\n",
       "      <td>Adventure|Children|Fantasy</td>\n",
       "    </tr>\n",
       "    <tr>\n",
       "      <th>2</th>\n",
       "      <td>3</td>\n",
       "      <td>Grumpier Old Men (1995)</td>\n",
       "      <td>Comedy|Romance</td>\n",
       "    </tr>\n",
       "    <tr>\n",
       "      <th>3</th>\n",
       "      <td>4</td>\n",
       "      <td>Waiting to Exhale (1995)</td>\n",
       "      <td>Comedy|Drama|Romance</td>\n",
       "    </tr>\n",
       "    <tr>\n",
       "      <th>4</th>\n",
       "      <td>5</td>\n",
       "      <td>Father of the Bride Part II (1995)</td>\n",
       "      <td>Comedy</td>\n",
       "    </tr>\n",
       "  </tbody>\n",
       "</table>\n",
       "</div>"
      ],
      "text/plain": [
       "   movieId                               title  \\\n",
       "0        1                    Toy Story (1995)   \n",
       "1        2                      Jumanji (1995)   \n",
       "2        3             Grumpier Old Men (1995)   \n",
       "3        4            Waiting to Exhale (1995)   \n",
       "4        5  Father of the Bride Part II (1995)   \n",
       "\n",
       "                                        genres  \n",
       "0  Adventure|Animation|Children|Comedy|Fantasy  \n",
       "1                   Adventure|Children|Fantasy  \n",
       "2                               Comedy|Romance  \n",
       "3                         Comedy|Drama|Romance  \n",
       "4                                       Comedy  "
      ]
     },
     "metadata": {},
     "output_type": "display_data"
    },
    {
     "name": "stdout",
     "output_type": "stream",
     "text": [
      "\n",
      "\n",
      "Ratings Dataset :\n",
      "Row Count :  32000204\n"
     ]
    },
    {
     "data": {
      "text/html": [
       "<div>\n",
       "<style scoped>\n",
       "    .dataframe tbody tr th:only-of-type {\n",
       "        vertical-align: middle;\n",
       "    }\n",
       "\n",
       "    .dataframe tbody tr th {\n",
       "        vertical-align: top;\n",
       "    }\n",
       "\n",
       "    .dataframe thead th {\n",
       "        text-align: right;\n",
       "    }\n",
       "</style>\n",
       "<table border=\"1\" class=\"dataframe\">\n",
       "  <thead>\n",
       "    <tr style=\"text-align: right;\">\n",
       "      <th></th>\n",
       "      <th>userId</th>\n",
       "      <th>movieId</th>\n",
       "      <th>rating</th>\n",
       "      <th>timestamp</th>\n",
       "    </tr>\n",
       "  </thead>\n",
       "  <tbody>\n",
       "    <tr>\n",
       "      <th>0</th>\n",
       "      <td>1</td>\n",
       "      <td>17</td>\n",
       "      <td>4.0</td>\n",
       "      <td>944249077</td>\n",
       "    </tr>\n",
       "    <tr>\n",
       "      <th>1</th>\n",
       "      <td>1</td>\n",
       "      <td>25</td>\n",
       "      <td>1.0</td>\n",
       "      <td>944250228</td>\n",
       "    </tr>\n",
       "    <tr>\n",
       "      <th>2</th>\n",
       "      <td>1</td>\n",
       "      <td>29</td>\n",
       "      <td>2.0</td>\n",
       "      <td>943230976</td>\n",
       "    </tr>\n",
       "    <tr>\n",
       "      <th>3</th>\n",
       "      <td>1</td>\n",
       "      <td>30</td>\n",
       "      <td>5.0</td>\n",
       "      <td>944249077</td>\n",
       "    </tr>\n",
       "    <tr>\n",
       "      <th>4</th>\n",
       "      <td>1</td>\n",
       "      <td>32</td>\n",
       "      <td>5.0</td>\n",
       "      <td>943228858</td>\n",
       "    </tr>\n",
       "  </tbody>\n",
       "</table>\n",
       "</div>"
      ],
      "text/plain": [
       "   userId  movieId  rating  timestamp\n",
       "0       1       17     4.0  944249077\n",
       "1       1       25     1.0  944250228\n",
       "2       1       29     2.0  943230976\n",
       "3       1       30     5.0  944249077\n",
       "4       1       32     5.0  943228858"
      ]
     },
     "metadata": {},
     "output_type": "display_data"
    }
   ],
   "source": [
    "import pandas as pd\n",
    "from IPython.display import display\n",
    "# from tabulate import tabulate\n",
    "\n",
    "\n",
    "# Load Datasets\n",
    "movies = pd.read_csv('../data/movies.csv')\n",
    "ratings = pd.read_csv('../data/ratings.csv')\n",
    "\n",
    "# Display basic information\n",
    "print(\"Movies Dataset :\")\n",
    "print(\"Row Count : \", movies.shape[0])\n",
    "# print(movies.info())\n",
    "# print(movies.head().to_string())\n",
    "display(movies.head())\n",
    "# print(tabulate(movies.head(), headers='keys', tablefmt='psql'))\n",
    "\n",
    "print(\"\\n\\nRatings Dataset :\")\n",
    "# print(ratings.info())\n",
    "print(\"Row Count : \", ratings.shape[0])\n",
    "display(ratings.head())\n",
    "\n",
    "num_total_ratings = len(ratings)"
   ]
  },
  {
   "cell_type": "code",
   "execution_count": 159,
   "id": "9e37973d-8d74-4af0-960f-d4fc2e74537f",
   "metadata": {},
   "outputs": [
    {
     "name": "stdout",
     "output_type": "stream",
     "text": [
      "Unique movie genres :  1798\n",
      "Unique movie titles :  87382\n",
      "Number of rows in movies :  87585\n",
      "\n",
      "Missing values in movies dataset:\n",
      "movieId    0\n",
      "title      0\n",
      "genres     0\n",
      "dtype: int64\n"
     ]
    }
   ],
   "source": [
    "# Unique Genres\n",
    "print(\"Unique movie genres : \", len(movies['genres'].unique()))\n",
    "print(\"Unique movie titles : \", len(movies['title'].unique()))\n",
    "print(\"Number of rows in movies : \", len(movies))\n",
    "\n",
    "# Check for missing values\n",
    "print(\"\\nMissing values in movies dataset:\")\n",
    "print(movies.isnull().sum())\n"
   ]
  },
  {
   "cell_type": "code",
   "execution_count": 161,
   "id": "18a62057-5d21-46e9-b847-cbd7706b6a71",
   "metadata": {},
   "outputs": [
    {
     "name": "stdout",
     "output_type": "stream",
     "text": [
      "rating\n",
      "0.5     525132\n",
      "1.0     946675\n",
      "1.5     531063\n",
      "2.0    2028622\n",
      "2.5    1685386\n",
      "3.0    6054990\n",
      "3.5    4290105\n",
      "4.0    8367654\n",
      "4.5    2974000\n",
      "5.0    4596577\n",
      "Name: count, dtype: int64\n"
     ]
    }
   ],
   "source": [
    "print(ratings['rating'].value_counts().sort_index())"
   ]
  },
  {
   "cell_type": "code",
   "execution_count": 163,
   "id": "eb1365e6-5c86-4b55-9c29-f51410a4ba1c",
   "metadata": {},
   "outputs": [
    {
     "data": {
      "image/png": "[encoded data removed]",
      "text/plain": [
       "<Figure size 640x480 with 1 Axes>"
      ]
     },
     "metadata": {},
     "output_type": "display_data"
    },
    {
     "name": "stdout",
     "output_type": "stream",
     "text": [
      "\n",
      "Number of unique users: 200948\n",
      "Number of unique movies: 84432\n"
     ]
    }
   ],
   "source": [
    "# Rating distribution\n",
    "import matplotlib.pyplot as plt\n",
    "\n",
    "ratings['rating'].value_counts().sort_index().plot(kind='bar')\n",
    "plt.title('Rating Distribution')\n",
    "plt.xlabel('Rating')\n",
    "plt.ylabel('Count')\n",
    "plt.show()\n",
    "\n",
    "# Number of unique users and movies\n",
    "print(\"\\nNumber of unique users:\", ratings['userId'].nunique())\n",
    "print(\"Number of unique movies:\", ratings['movieId'].nunique())"
   ]
  },
  {
   "cell_type": "code",
   "execution_count": 165,
   "id": "c1a197dc-4ba7-475e-a07d-403d1522ec76",
   "metadata": {},
   "outputs": [
    {
     "name": "stdout",
     "output_type": "stream",
     "text": [
      "Total number of duplicate movies :  401\n",
      "Nmber of unique duplicate movies :  198\n",
      "Percentage of duplicate movies :  0.22606610721013873\n"
     ]
    }
   ],
   "source": [
    "# Find duplicate titles\n",
    "duplicate_movies = movies[movies.duplicated(subset='title', keep=False)]\n",
    "duplicate_movie_ids = duplicate_movies['movieId']\n",
    "print(\"Total number of duplicate movies : \", len(duplicate_movies))\n",
    "num_unique_duplicate_movies = len(duplicate_movies['title'].unique())\n",
    "print(\"Nmber of unique duplicate movies : \", num_unique_duplicate_movies)\n",
    "print(\"Percentage of duplicate movies : \", 100 * num_unique_duplicate_movies/len(movies))\n",
    "\n",
    "# Group duplicates by title\n",
    "grouped_duplicates = duplicate_movies.groupby('title')\n",
    "\n",
    "# Print each duplicate group\n",
    "# for title, group in grouped_duplicates:\n",
    "#     print(f\"Duplicate Title: {title}\")\n",
    "#     print(group)\n",
    "#     print(\"-\" * 50)"
   ]
  },
  {
   "cell_type": "code",
   "execution_count": 167,
   "id": "b1bf76e7-09f9-4c9f-9289-bb659d1e9bb4",
   "metadata": {},
   "outputs": [
    {
     "data": {
      "text/plain": [
       "0    Adventure|Animation|Children|Comedy|Fantasy\n",
       "1                     Adventure|Children|Fantasy\n",
       "2                                 Comedy|Romance\n",
       "3                           Comedy|Drama|Romance\n",
       "4                                         Comedy\n",
       "Name: genres, dtype: object"
      ]
     },
     "metadata": {},
     "output_type": "display_data"
    }
   ],
   "source": [
    "display(movies['genres'].head())\n",
    "# display(movies.groupby('title')['genres'].head())"
   ]
  },
  {
   "cell_type": "code",
   "execution_count": 169,
   "id": "af420985-6f76-4fe4-a54c-484a99605393",
   "metadata": {},
   "outputs": [
    {
     "name": "stdout",
     "output_type": "stream",
     "text": [
      "401\n"
     ]
    },
    {
     "data": {
      "text/plain": [
       "0    Adventure|Animation|Children|Comedy|Fantasy\n",
       "1                     Adventure|Children|Fantasy\n",
       "2                                 Comedy|Romance\n",
       "3                           Comedy|Drama|Romance\n",
       "4                                         Comedy\n",
       "Name: genres, dtype: object"
      ]
     },
     "metadata": {},
     "output_type": "display_data"
    }
   ],
   "source": [
    "# Duplicate movies make up only 0.2% of the entire dataset but I still want to clean them up\n",
    "print(len(duplicate_movies['movieId'].unique()))\n",
    "\n",
    "'''\n",
    "Consolidate Genres for duplicates with overlapping or invalid genres:\n",
    "\t1.\tCombine all genres for the same title, removing duplicates.\n",
    "\t2.\tExclude invalid genres like (no genres listed).\n",
    "                          '''\n",
    "# Consolidate genres by combining unique genres for duplicate titles\n",
    "def consolidate_genres(group):\n",
    "    # Split and explode genres\n",
    "    genres = group.str.split('|').explode()\n",
    "\n",
    "    # Filter out invalid genres\n",
    "    valid_genres = genres[genres != '(no genres listed)']\n",
    "\n",
    "    # Combine unique genres into a sorted, pipe-separated string\n",
    "    return '|'.join(sorted(set(valid_genres)))\n",
    "\n",
    "# Apply consolidation\n",
    "# print(\":::::::: Null movie genre columns => \", len(movies[movies['genres'].isnull()]))\n",
    "movies['genres'] = movies.groupby('title')['genres'].transform(consolidate_genres)\n",
    "display(movies['genres'].head())"
   ]
  },
  {
   "cell_type": "code",
   "execution_count": 171,
   "id": "3b6b5a15-3c7b-49aa-8198-9e4b4781fd4b",
   "metadata": {},
   "outputs": [
    {
     "name": "stdout",
     "output_type": "stream",
     "text": [
      ":::::: Number of ratings =>  32000204\n",
      ":::::: Number of duplicate ratings =>  98410\n",
      ":::::: Percentage of duplicate ratings =>  0.30752928950077946\n"
     ]
    }
   ],
   "source": [
    "# Average the ratings for duplicate movieIds\n",
    "# Filter ratings for duplicate movies\n",
    "num_total_ratings = len(ratings)\n",
    "duplicate_ratings = ratings[ratings['movieId'].isin(duplicate_movie_ids)]\n",
    "num_duplicate_ratings = len(duplicate_ratings)\n",
    "print(\":::::: Number of ratings => \", num_total_ratings)\n",
    "print(\":::::: Number of duplicate ratings => \", num_duplicate_ratings)\n",
    "print(\":::::: Percentage of duplicate ratings => \", 100*num_duplicate_ratings/num_total_ratings)"
   ]
  },
  {
   "cell_type": "code",
   "execution_count": 175,
   "id": "5b340b05-a6e3-4f21-88db-94b17a4ef6b7",
   "metadata": {},
   "outputs": [
    {
     "name": "stdout",
     "output_type": "stream",
     "text": [
      "::::: Updated average ratings for duplicate movies !!!\n"
     ]
    }
   ],
   "source": [
    "# Duplicate ratings make up only 0.3% of the dataset but I will clean them up anyway.\n",
    "\n",
    "# Function to round to the nearest 0.5\n",
    "def round_to_nearest_half(value):\n",
    "    rounded_value = round(value * 2) / 2\n",
    "    # print(f\":::: Value => {value}, Rounded => {rounded_value}\")\n",
    "    return rounded_value\n",
    "\n",
    "# Compute average ratings for duplicate movies\n",
    "avg_duplicate_ratings = duplicate_ratings.groupby('movieId')['rating'].mean()\n",
    "\n",
    "# Apply the rounding function to the averaged ratings\n",
    "avg_dup_ratings_rounded = avg_duplicate_ratings.apply(round_to_nearest_half)\n",
    "\n",
    "# Replace ratings for duplicate movies with the average rating\n",
    "ratings.loc[ratings['movieId'].isin(avg_dup_ratings_rounded.index), 'rating'] = ratings['movieId'].map(avg_dup_ratings_rounded)\n",
    "\n",
    "print(\"::::: Updated average ratings for duplicate movies !!!\")\n"
   ]
  },
  {
   "cell_type": "code",
   "execution_count": 177,
   "id": "a5f7a812-170a-4579-b7fa-81ea4de4ce84",
   "metadata": {},
   "outputs": [
    {
     "name": "stdout",
     "output_type": "stream",
     "text": [
      "rating\n",
      "0.5     523673\n",
      "1.0     944384\n",
      "1.5     529474\n",
      "2.0    2023842\n",
      "2.5    1682648\n",
      "3.0    6054831\n",
      "3.5    4343898\n",
      "4.0    8345829\n",
      "4.5    2967014\n",
      "5.0    4584611\n",
      "Name: count, dtype: int64\n"
     ]
    }
   ],
   "source": [
    "print(ratings['rating'].value_counts().sort_index())"
   ]
  },
  {
   "cell_type": "code",
   "execution_count": 179,
   "id": "5e7de958-384f-4756-8467-200e26567fde",
   "metadata": {},
   "outputs": [
    {
     "name": "stdout",
     "output_type": "stream",
     "text": [
      "::::::::::: Number of movies before dropping nulls and duplicates :  87585\n",
      "::::::::::: Number of movies after dropping nulls and duplicates :  87382\n"
     ]
    }
   ],
   "source": [
    "# Remove rows with missing essential data\n",
    "print(\"::::::::::: Number of movies before dropping nulls and duplicates : \", len(movies))\n",
    "movies = movies.dropna(subset=['title', 'genres'])\n",
    "# Drop duplicates based on titles\n",
    "movies = movies.drop_duplicates(subset='title', keep='first').reset_index(drop=True)\n",
    "print(\"::::::::::: Number of movies after dropping nulls and duplicates : \", len(movies))\n"
   ]
  },
  {
   "cell_type": "code",
   "execution_count": 181,
   "id": "865d4d70-040a-4f63-b505-b39573508de8",
   "metadata": {},
   "outputs": [
    {
     "name": "stdout",
     "output_type": "stream",
     "text": [
      "Total number of duplicate movies :  0\n"
     ]
    }
   ],
   "source": [
    "# Verify there are no more duplicates\n",
    "print(\"Total number of duplicate movies : \", len( movies[movies.duplicated(subset='title', keep=False)]))"
   ]
  },
  {
   "cell_type": "code",
   "execution_count": 183,
   "id": "fd36bf49-646e-4f7a-9a6e-8ecbdadc28a8",
   "metadata": {},
   "outputs": [],
   "source": [
    "#Normalize Titles\n",
    "movies['title'] = movies['title'].str.lower().str.strip()"
   ]
  },
  {
   "cell_type": "code",
   "execution_count": 185,
   "id": "cc673597-af23-4495-86e3-7e567c403bb0",
   "metadata": {},
   "outputs": [
    {
     "data": {
      "text/html": [
       "<div>\n",
       "<style scoped>\n",
       "    .dataframe tbody tr th:only-of-type {\n",
       "        vertical-align: middle;\n",
       "    }\n",
       "\n",
       "    .dataframe tbody tr th {\n",
       "        vertical-align: top;\n",
       "    }\n",
       "\n",
       "    .dataframe thead th {\n",
       "        text-align: right;\n",
       "    }\n",
       "</style>\n",
       "<table border=\"1\" class=\"dataframe\">\n",
       "  <thead>\n",
       "    <tr style=\"text-align: right;\">\n",
       "      <th></th>\n",
       "      <th>movieId</th>\n",
       "      <th>title</th>\n",
       "      <th>genres</th>\n",
       "    </tr>\n",
       "  </thead>\n",
       "  <tbody>\n",
       "    <tr>\n",
       "      <th>0</th>\n",
       "      <td>1</td>\n",
       "      <td>toy story (1995)</td>\n",
       "      <td>Adventure|Animation|Children|Comedy|Fantasy</td>\n",
       "    </tr>\n",
       "    <tr>\n",
       "      <th>1</th>\n",
       "      <td>2</td>\n",
       "      <td>jumanji (1995)</td>\n",
       "      <td>Adventure|Children|Fantasy</td>\n",
       "    </tr>\n",
       "    <tr>\n",
       "      <th>2</th>\n",
       "      <td>3</td>\n",
       "      <td>grumpier old men (1995)</td>\n",
       "      <td>Comedy|Romance</td>\n",
       "    </tr>\n",
       "    <tr>\n",
       "      <th>3</th>\n",
       "      <td>4</td>\n",
       "      <td>waiting to exhale (1995)</td>\n",
       "      <td>Comedy|Drama|Romance</td>\n",
       "    </tr>\n",
       "    <tr>\n",
       "      <th>4</th>\n",
       "      <td>5</td>\n",
       "      <td>father of the bride part ii (1995)</td>\n",
       "      <td>Comedy</td>\n",
       "    </tr>\n",
       "  </tbody>\n",
       "</table>\n",
       "</div>"
      ],
      "text/plain": [
       "   movieId                               title  \\\n",
       "0        1                    toy story (1995)   \n",
       "1        2                      jumanji (1995)   \n",
       "2        3             grumpier old men (1995)   \n",
       "3        4            waiting to exhale (1995)   \n",
       "4        5  father of the bride part ii (1995)   \n",
       "\n",
       "                                        genres  \n",
       "0  Adventure|Animation|Children|Comedy|Fantasy  \n",
       "1                   Adventure|Children|Fantasy  \n",
       "2                               Comedy|Romance  \n",
       "3                         Comedy|Drama|Romance  \n",
       "4                                       Comedy  "
      ]
     },
     "metadata": {},
     "output_type": "display_data"
    }
   ],
   "source": [
    "display(movies.head())"
   ]
  },
  {
   "cell_type": "code",
   "execution_count": 187,
   "id": "cbfa47ae-e033-4edf-aaba-64ae6c054d5e",
   "metadata": {},
   "outputs": [
    {
     "data": {
      "text/html": [
       "<div>\n",
       "<style scoped>\n",
       "    .dataframe tbody tr th:only-of-type {\n",
       "        vertical-align: middle;\n",
       "    }\n",
       "\n",
       "    .dataframe tbody tr th {\n",
       "        vertical-align: top;\n",
       "    }\n",
       "\n",
       "    .dataframe thead th {\n",
       "        text-align: right;\n",
       "    }\n",
       "</style>\n",
       "<table border=\"1\" class=\"dataframe\">\n",
       "  <thead>\n",
       "    <tr style=\"text-align: right;\">\n",
       "      <th></th>\n",
       "      <th>movieId</th>\n",
       "      <th>rating_count</th>\n",
       "    </tr>\n",
       "  </thead>\n",
       "  <tbody>\n",
       "    <tr>\n",
       "      <th>0</th>\n",
       "      <td>1</td>\n",
       "      <td>68997</td>\n",
       "    </tr>\n",
       "    <tr>\n",
       "      <th>1</th>\n",
       "      <td>2</td>\n",
       "      <td>28904</td>\n",
       "    </tr>\n",
       "    <tr>\n",
       "      <th>2</th>\n",
       "      <td>3</td>\n",
       "      <td>13134</td>\n",
       "    </tr>\n",
       "    <tr>\n",
       "      <th>3</th>\n",
       "      <td>4</td>\n",
       "      <td>2806</td>\n",
       "    </tr>\n",
       "    <tr>\n",
       "      <th>4</th>\n",
       "      <td>5</td>\n",
       "      <td>13154</td>\n",
       "    </tr>\n",
       "  </tbody>\n",
       "</table>\n",
       "</div>"
      ],
      "text/plain": [
       "   movieId  rating_count\n",
       "0        1         68997\n",
       "1        2         28904\n",
       "2        3         13134\n",
       "3        4          2806\n",
       "4        5         13154"
      ]
     },
     "metadata": {},
     "output_type": "display_data"
    },
    {
     "name": "stdout",
     "output_type": "stream",
     "text": [
      "Top 10 most popular movies:\n"
     ]
    },
    {
     "data": {
      "text/html": [
       "<div>\n",
       "<style scoped>\n",
       "    .dataframe tbody tr th:only-of-type {\n",
       "        vertical-align: middle;\n",
       "    }\n",
       "\n",
       "    .dataframe tbody tr th {\n",
       "        vertical-align: top;\n",
       "    }\n",
       "\n",
       "    .dataframe thead th {\n",
       "        text-align: right;\n",
       "    }\n",
       "</style>\n",
       "<table border=\"1\" class=\"dataframe\">\n",
       "  <thead>\n",
       "    <tr style=\"text-align: right;\">\n",
       "      <th></th>\n",
       "      <th>movieId</th>\n",
       "      <th>rating_count</th>\n",
       "      <th>title</th>\n",
       "      <th>genres</th>\n",
       "    </tr>\n",
       "  </thead>\n",
       "  <tbody>\n",
       "    <tr>\n",
       "      <th>314</th>\n",
       "      <td>318</td>\n",
       "      <td>102929</td>\n",
       "      <td>shawshank redemption, the (1994)</td>\n",
       "      <td>Crime|Drama</td>\n",
       "    </tr>\n",
       "    <tr>\n",
       "      <th>351</th>\n",
       "      <td>356</td>\n",
       "      <td>100296</td>\n",
       "      <td>forrest gump (1994)</td>\n",
       "      <td>Comedy|Drama|Romance|War</td>\n",
       "    </tr>\n",
       "    <tr>\n",
       "      <th>292</th>\n",
       "      <td>296</td>\n",
       "      <td>98409</td>\n",
       "      <td>pulp fiction (1994)</td>\n",
       "      <td>Comedy|Crime|Drama|Thriller</td>\n",
       "    </tr>\n",
       "    <tr>\n",
       "      <th>2480</th>\n",
       "      <td>2571</td>\n",
       "      <td>93808</td>\n",
       "      <td>matrix, the (1999)</td>\n",
       "      <td>Action|Sci-Fi|Thriller</td>\n",
       "    </tr>\n",
       "    <tr>\n",
       "      <th>585</th>\n",
       "      <td>593</td>\n",
       "      <td>90330</td>\n",
       "      <td>silence of the lambs, the (1991)</td>\n",
       "      <td>Crime|Horror|Thriller</td>\n",
       "    </tr>\n",
       "    <tr>\n",
       "      <th>257</th>\n",
       "      <td>260</td>\n",
       "      <td>85010</td>\n",
       "      <td>star wars: episode iv - a new hope (1977)</td>\n",
       "      <td>Action|Adventure|Sci-Fi</td>\n",
       "    </tr>\n",
       "    <tr>\n",
       "      <th>2867</th>\n",
       "      <td>2959</td>\n",
       "      <td>77332</td>\n",
       "      <td>fight club (1999)</td>\n",
       "      <td>Action|Crime|Drama|Thriller</td>\n",
       "    </tr>\n",
       "    <tr>\n",
       "      <th>475</th>\n",
       "      <td>480</td>\n",
       "      <td>75233</td>\n",
       "      <td>jurassic park (1993)</td>\n",
       "      <td>Action|Adventure|Sci-Fi|Thriller</td>\n",
       "    </tr>\n",
       "    <tr>\n",
       "      <th>522</th>\n",
       "      <td>527</td>\n",
       "      <td>73849</td>\n",
       "      <td>schindler's list (1993)</td>\n",
       "      <td>Drama|War</td>\n",
       "    </tr>\n",
       "    <tr>\n",
       "      <th>4888</th>\n",
       "      <td>4993</td>\n",
       "      <td>73122</td>\n",
       "      <td>lord of the rings: the fellowship of the ring,...</td>\n",
       "      <td>Adventure|Fantasy</td>\n",
       "    </tr>\n",
       "  </tbody>\n",
       "</table>\n",
       "</div>"
      ],
      "text/plain": [
       "      movieId  rating_count  \\\n",
       "314       318        102929   \n",
       "351       356        100296   \n",
       "292       296         98409   \n",
       "2480     2571         93808   \n",
       "585       593         90330   \n",
       "257       260         85010   \n",
       "2867     2959         77332   \n",
       "475       480         75233   \n",
       "522       527         73849   \n",
       "4888     4993         73122   \n",
       "\n",
       "                                                  title  \\\n",
       "314                    shawshank redemption, the (1994)   \n",
       "351                                 forrest gump (1994)   \n",
       "292                                 pulp fiction (1994)   \n",
       "2480                                 matrix, the (1999)   \n",
       "585                    silence of the lambs, the (1991)   \n",
       "257           star wars: episode iv - a new hope (1977)   \n",
       "2867                                  fight club (1999)   \n",
       "475                                jurassic park (1993)   \n",
       "522                             schindler's list (1993)   \n",
       "4888  lord of the rings: the fellowship of the ring,...   \n",
       "\n",
       "                                genres  \n",
       "314                        Crime|Drama  \n",
       "351           Comedy|Drama|Romance|War  \n",
       "292        Comedy|Crime|Drama|Thriller  \n",
       "2480            Action|Sci-Fi|Thriller  \n",
       "585              Crime|Horror|Thriller  \n",
       "257            Action|Adventure|Sci-Fi  \n",
       "2867       Action|Crime|Drama|Thriller  \n",
       "475   Action|Adventure|Sci-Fi|Thriller  \n",
       "522                          Drama|War  \n",
       "4888                 Adventure|Fantasy  "
      ]
     },
     "metadata": {},
     "output_type": "display_data"
    }
   ],
   "source": [
    "# Aggregate ratings per movie\n",
    "movie_ratings = ratings.groupby('movieId')['rating'].count().reset_index()\n",
    "movie_ratings.rename(columns={'rating': 'rating_count'}, inplace=True)\n",
    "\n",
    "display(movie_ratings.head())\n",
    "\n",
    "# Merge with movies dataset\n",
    "popular_movies = movie_ratings.merge(movies, on='movieId').sort_values(by='rating_count', ascending=False)\n",
    "\n",
    "print(\"Top 10 most popular movies:\")\n",
    "display(popular_movies.head(10))"
   ]
  },
  {
   "cell_type": "code",
   "execution_count": 189,
   "id": "4d5d11ca-4172-4873-b7e1-421bba693fa6",
   "metadata": {},
   "outputs": [
    {
     "name": "stdout",
     "output_type": "stream",
     "text": [
      "Top 10 highest rated movies:\n"
     ]
    },
    {
     "data": {
      "text/html": [
       "<div>\n",
       "<style scoped>\n",
       "    .dataframe tbody tr th:only-of-type {\n",
       "        vertical-align: middle;\n",
       "    }\n",
       "\n",
       "    .dataframe tbody tr th {\n",
       "        vertical-align: top;\n",
       "    }\n",
       "\n",
       "    .dataframe thead th {\n",
       "        text-align: right;\n",
       "    }\n",
       "</style>\n",
       "<table border=\"1\" class=\"dataframe\">\n",
       "  <thead>\n",
       "    <tr style=\"text-align: right;\">\n",
       "      <th></th>\n",
       "      <th>title</th>\n",
       "      <th>average_rating</th>\n",
       "    </tr>\n",
       "  </thead>\n",
       "  <tbody>\n",
       "    <tr>\n",
       "      <th>36015</th>\n",
       "      <td>hart to hart returns (1993)</td>\n",
       "      <td>5.0</td>\n",
       "    </tr>\n",
       "    <tr>\n",
       "      <th>34850</th>\n",
       "      <td>neapolitan diary (1992)</td>\n",
       "      <td>5.0</td>\n",
       "    </tr>\n",
       "    <tr>\n",
       "      <th>58157</th>\n",
       "      <td>the stolen caravaggio (2018)</td>\n",
       "      <td>5.0</td>\n",
       "    </tr>\n",
       "    <tr>\n",
       "      <th>34964</th>\n",
       "      <td>she who must burn</td>\n",
       "      <td>5.0</td>\n",
       "    </tr>\n",
       "    <tr>\n",
       "      <th>72910</th>\n",
       "      <td>indianara (2019)</td>\n",
       "      <td>5.0</td>\n",
       "    </tr>\n",
       "    <tr>\n",
       "      <th>50035</th>\n",
       "      <td>the painting (2001)</td>\n",
       "      <td>5.0</td>\n",
       "    </tr>\n",
       "    <tr>\n",
       "      <th>50034</th>\n",
       "      <td>the hostage (1967)</td>\n",
       "      <td>5.0</td>\n",
       "    </tr>\n",
       "    <tr>\n",
       "      <th>50029</th>\n",
       "      <td>thirty proof coil (2011)</td>\n",
       "      <td>5.0</td>\n",
       "    </tr>\n",
       "    <tr>\n",
       "      <th>25523</th>\n",
       "      <td>styx (2001)</td>\n",
       "      <td>5.0</td>\n",
       "    </tr>\n",
       "    <tr>\n",
       "      <th>25520</th>\n",
       "      <td>the millennium bug (2011)</td>\n",
       "      <td>5.0</td>\n",
       "    </tr>\n",
       "  </tbody>\n",
       "</table>\n",
       "</div>"
      ],
      "text/plain": [
       "                              title  average_rating\n",
       "36015   hart to hart returns (1993)             5.0\n",
       "34850       neapolitan diary (1992)             5.0\n",
       "58157  the stolen caravaggio (2018)             5.0\n",
       "34964             she who must burn             5.0\n",
       "72910              indianara (2019)             5.0\n",
       "50035           the painting (2001)             5.0\n",
       "50034            the hostage (1967)             5.0\n",
       "50029      thirty proof coil (2011)             5.0\n",
       "25523                   styx (2001)             5.0\n",
       "25520     the millennium bug (2011)             5.0"
      ]
     },
     "metadata": {},
     "output_type": "display_data"
    }
   ],
   "source": [
    "# Aggregate average rating per movie\n",
    "avg_ratings = ratings.groupby('movieId')['rating'].mean().reset_index()\n",
    "avg_ratings.rename(columns={'rating': 'average_rating'}, inplace=True)\n",
    "\n",
    "# Merge with movies dataset\n",
    "highest_rated = avg_ratings.merge(movies, on='movieId').sort_values(by='average_rating', ascending=False)\n",
    "\n",
    "print(\"Top 10 highest rated movies:\")\n",
    "display(highest_rated[['title', 'average_rating']].head(10))"
   ]
  },
  {
   "cell_type": "code",
   "execution_count": 191,
   "id": "8fe9b2ed-cd1c-4e26-b284-bedc8458edc2",
   "metadata": {},
   "outputs": [
    {
     "name": "stdout",
     "output_type": "stream",
     "text": [
      "Count of movies with missing genres: 0\n"
     ]
    }
   ],
   "source": [
    "missing_genres_count = movies['genres'].isnull().sum()\n",
    "print(\"Count of movies with missing genres:\", missing_genres_count)"
   ]
  },
  {
   "cell_type": "code",
   "execution_count": 193,
   "id": "3a933e05-9c6a-41b4-9224-07169d01a58a",
   "metadata": {},
   "outputs": [
    {
     "data": {
      "text/html": [
       "<div>\n",
       "<style scoped>\n",
       "    .dataframe tbody tr th:only-of-type {\n",
       "        vertical-align: middle;\n",
       "    }\n",
       "\n",
       "    .dataframe tbody tr th {\n",
       "        vertical-align: top;\n",
       "    }\n",
       "\n",
       "    .dataframe thead th {\n",
       "        text-align: right;\n",
       "    }\n",
       "</style>\n",
       "<table border=\"1\" class=\"dataframe\">\n",
       "  <thead>\n",
       "    <tr style=\"text-align: right;\">\n",
       "      <th></th>\n",
       "      <th>movieId</th>\n",
       "      <th>title</th>\n",
       "      <th>genres</th>\n",
       "      <th>year</th>\n",
       "    </tr>\n",
       "  </thead>\n",
       "  <tbody>\n",
       "    <tr>\n",
       "      <th>0</th>\n",
       "      <td>1</td>\n",
       "      <td>toy story (1995)</td>\n",
       "      <td>Adventure|Animation|Children|Comedy|Fantasy</td>\n",
       "      <td>1995</td>\n",
       "    </tr>\n",
       "    <tr>\n",
       "      <th>1</th>\n",
       "      <td>2</td>\n",
       "      <td>jumanji (1995)</td>\n",
       "      <td>Adventure|Children|Fantasy</td>\n",
       "      <td>1995</td>\n",
       "    </tr>\n",
       "    <tr>\n",
       "      <th>2</th>\n",
       "      <td>3</td>\n",
       "      <td>grumpier old men (1995)</td>\n",
       "      <td>Comedy|Romance</td>\n",
       "      <td>1995</td>\n",
       "    </tr>\n",
       "    <tr>\n",
       "      <th>3</th>\n",
       "      <td>4</td>\n",
       "      <td>waiting to exhale (1995)</td>\n",
       "      <td>Comedy|Drama|Romance</td>\n",
       "      <td>1995</td>\n",
       "    </tr>\n",
       "    <tr>\n",
       "      <th>4</th>\n",
       "      <td>5</td>\n",
       "      <td>father of the bride part ii (1995)</td>\n",
       "      <td>Comedy</td>\n",
       "      <td>1995</td>\n",
       "    </tr>\n",
       "    <tr>\n",
       "      <th>5</th>\n",
       "      <td>6</td>\n",
       "      <td>heat (1995)</td>\n",
       "      <td>Action|Crime|Thriller</td>\n",
       "      <td>1995</td>\n",
       "    </tr>\n",
       "    <tr>\n",
       "      <th>6</th>\n",
       "      <td>7</td>\n",
       "      <td>sabrina (1995)</td>\n",
       "      <td>Comedy|Romance</td>\n",
       "      <td>1995</td>\n",
       "    </tr>\n",
       "    <tr>\n",
       "      <th>7</th>\n",
       "      <td>8</td>\n",
       "      <td>tom and huck (1995)</td>\n",
       "      <td>Adventure|Children</td>\n",
       "      <td>1995</td>\n",
       "    </tr>\n",
       "    <tr>\n",
       "      <th>8</th>\n",
       "      <td>9</td>\n",
       "      <td>sudden death (1995)</td>\n",
       "      <td>Action</td>\n",
       "      <td>1995</td>\n",
       "    </tr>\n",
       "    <tr>\n",
       "      <th>9</th>\n",
       "      <td>10</td>\n",
       "      <td>goldeneye (1995)</td>\n",
       "      <td>Action|Adventure|Thriller</td>\n",
       "      <td>1995</td>\n",
       "    </tr>\n",
       "  </tbody>\n",
       "</table>\n",
       "</div>"
      ],
      "text/plain": [
       "   movieId                               title  \\\n",
       "0        1                    toy story (1995)   \n",
       "1        2                      jumanji (1995)   \n",
       "2        3             grumpier old men (1995)   \n",
       "3        4            waiting to exhale (1995)   \n",
       "4        5  father of the bride part ii (1995)   \n",
       "5        6                         heat (1995)   \n",
       "6        7                      sabrina (1995)   \n",
       "7        8                 tom and huck (1995)   \n",
       "8        9                 sudden death (1995)   \n",
       "9       10                    goldeneye (1995)   \n",
       "\n",
       "                                        genres  year  \n",
       "0  Adventure|Animation|Children|Comedy|Fantasy  1995  \n",
       "1                   Adventure|Children|Fantasy  1995  \n",
       "2                               Comedy|Romance  1995  \n",
       "3                         Comedy|Drama|Romance  1995  \n",
       "4                                       Comedy  1995  \n",
       "5                        Action|Crime|Thriller  1995  \n",
       "6                               Comedy|Romance  1995  \n",
       "7                           Adventure|Children  1995  \n",
       "8                                       Action  1995  \n",
       "9                    Action|Adventure|Thriller  1995  "
      ]
     },
     "metadata": {},
     "output_type": "display_data"
    }
   ],
   "source": [
    "# Fill missing genres with \"Unknown\"\n",
    "movies['genres'] = movies['genres'].fillna('Unknown')\n",
    "\n",
    "# Extract release year (if present in the title)\n",
    "movies['year'] = movies['title'].str.extract(r'\\((\\d{4})\\)')\n",
    "movies['year'] = pd.to_numeric(movies['year'], errors='coerce')\n",
    "movies['year'] = movies['year'].fillna(0).astype(int)\n",
    "\n",
    "display(movies.head(10))"
   ]
  },
  {
   "cell_type": "code",
   "execution_count": 195,
   "id": "24d213cb-29a1-45c9-ad4a-3976d64c7f4a",
   "metadata": {},
   "outputs": [
    {
     "name": "stdout",
     "output_type": "stream",
     "text": [
      "<class 'pandas.core.frame.DataFrame'>\n",
      "RangeIndex: 87382 entries, 0 to 87381\n",
      "Data columns (total 4 columns):\n",
      " #   Column   Non-Null Count  Dtype \n",
      "---  ------   --------------  ----- \n",
      " 0   movieId  87382 non-null  int64 \n",
      " 1   title    87382 non-null  object\n",
      " 2   genres   87382 non-null  object\n",
      " 3   year     87382 non-null  int64 \n",
      "dtypes: int64(2), object(2)\n",
      "memory usage: 2.7+ MB\n",
      "None\n"
     ]
    }
   ],
   "source": [
    "print(movies.info())"
   ]
  },
  {
   "cell_type": "code",
   "execution_count": 199,
   "id": "7f9e1b68-eaca-4699-9591-7d14258e592a",
   "metadata": {},
   "outputs": [
    {
     "name": "stdout",
     "output_type": "stream",
     "text": [
      "52325\n"
     ]
    }
   ],
   "source": [
    "# Movies with a rating count of less than 10\n",
    "count_less_than_10 = popular_movies[popular_movies['rating_count'] < 10].shape[0]\n",
    "print(count_less_than_10)"
   ]
  },
  {
   "cell_type": "code",
   "execution_count": 201,
   "id": "44614246-17e8-45e4-a1b4-ba6e88d06ea6",
   "metadata": {},
   "outputs": [
    {
     "name": "stdout",
     "output_type": "stream",
     "text": [
      "200948\n"
     ]
    }
   ],
   "source": [
    "# Find the number of times each user has rated a movie\n",
    "user_rating_counts = ratings.groupby('userId')['rating'].count()\n",
    "filtered_users = user_rating_counts[user_rating_counts >= 5].index\n",
    "print(len(filtered_users))"
   ]
  },
  {
   "cell_type": "code",
   "execution_count": 205,
   "id": "e63547a3-5e24-476c-a9b2-3645cbb821bf",
   "metadata": {},
   "outputs": [],
   "source": [
    "# Filter movies with less than 10 ratings\n",
    "filtered_movies = movie_ratings[movie_ratings['rating_count'] >= 10]['movieId']\n",
    "ratings = ratings[ratings['movieId'].isin(filtered_movies)]\n",
    "\n",
    "# Filter users with less than 5 ratings\n",
    "user_rating_counts = ratings.groupby('userId')['rating'].count()\n",
    "filtered_users = user_rating_counts[user_rating_counts >= 5].index\n",
    "ratings = ratings[ratings['userId'].isin(filtered_users)]\n"
   ]
  },
  {
   "cell_type": "code",
   "execution_count": 207,
   "id": "dbaf4c1a-a0c7-4e21-88ac-14b8704c7682",
   "metadata": {},
   "outputs": [
    {
     "name": "stdout",
     "output_type": "stream",
     "text": [
      "Filtered ratings shape: (31842705, 4)\n",
      "::: New ratings count =>  31842705\n"
     ]
    }
   ],
   "source": [
    "print(\"Filtered ratings shape:\", ratings.shape)\n",
    "print(\"::: New ratings count => \", ratings.shape[0])"
   ]
  },
  {
   "cell_type": "code",
   "execution_count": 209,
   "id": "9128a2f3-53ba-4933-a9b3-1e8b921cc3da",
   "metadata": {},
   "outputs": [
    {
     "data": {
      "image/png": "[encoded data removed]",
      "text/plain": [
       "<Figure size 640x480 with 1 Axes>"
      ]
     },
     "metadata": {},
     "output_type": "display_data"
    }
   ],
   "source": [
    "# Number of movies per genre\n",
    "movies['genre_list'] = movies['genres'].str.split('|')\n",
    "all_genres = [genre for sublist in movies['genre_list'] for genre in sublist]\n",
    "genre_counts = pd.Series(all_genres).value_counts()\n",
    "\n",
    "# Plot\n",
    "genre_counts.plot(kind='bar')\n",
    "plt.title('Number of Movies per Genre')\n",
    "plt.xlabel('Genre')\n",
    "plt.ylabel('Count')\n",
    "plt.show()"
   ]
  },
  {
   "cell_type": "code",
   "execution_count": 211,
   "id": "e22af836-d61c-4f22-ac34-ecf0299e5ee5",
   "metadata": {},
   "outputs": [
    {
     "data": {
      "text/plain": [
       "Drama          34130\n",
       "Comedy         23110\n",
       "Thriller       11798\n",
       "Romance        10364\n",
       "Action          9662\n",
       "Documentary     9353\n",
       "Horror          8647\n",
       "                7050\n",
       "Crime           6972\n",
       "Adventure       5398\n",
       "Name: count, dtype: int64"
      ]
     },
     "metadata": {},
     "output_type": "display_data"
    },
    {
     "data": {
      "text/html": [
       "<div>\n",
       "<style scoped>\n",
       "    .dataframe tbody tr th:only-of-type {\n",
       "        vertical-align: middle;\n",
       "    }\n",
       "\n",
       "    .dataframe tbody tr th {\n",
       "        vertical-align: top;\n",
       "    }\n",
       "\n",
       "    .dataframe thead th {\n",
       "        text-align: right;\n",
       "    }\n",
       "</style>\n",
       "<table border=\"1\" class=\"dataframe\">\n",
       "  <thead>\n",
       "    <tr style=\"text-align: right;\">\n",
       "      <th></th>\n",
       "      <th>movieId</th>\n",
       "      <th>title</th>\n",
       "      <th>genres</th>\n",
       "      <th>year</th>\n",
       "      <th>genre_list</th>\n",
       "    </tr>\n",
       "  </thead>\n",
       "  <tbody>\n",
       "    <tr>\n",
       "      <th>0</th>\n",
       "      <td>1</td>\n",
       "      <td>toy story (1995)</td>\n",
       "      <td>Adventure|Animation|Children|Comedy|Fantasy</td>\n",
       "      <td>1995</td>\n",
       "      <td>[Adventure, Animation, Children, Comedy, Fantasy]</td>\n",
       "    </tr>\n",
       "    <tr>\n",
       "      <th>1</th>\n",
       "      <td>2</td>\n",
       "      <td>jumanji (1995)</td>\n",
       "      <td>Adventure|Children|Fantasy</td>\n",
       "      <td>1995</td>\n",
       "      <td>[Adventure, Children, Fantasy]</td>\n",
       "    </tr>\n",
       "    <tr>\n",
       "      <th>2</th>\n",
       "      <td>3</td>\n",
       "      <td>grumpier old men (1995)</td>\n",
       "      <td>Comedy|Romance</td>\n",
       "      <td>1995</td>\n",
       "      <td>[Comedy, Romance]</td>\n",
       "    </tr>\n",
       "    <tr>\n",
       "      <th>3</th>\n",
       "      <td>4</td>\n",
       "      <td>waiting to exhale (1995)</td>\n",
       "      <td>Comedy|Drama|Romance</td>\n",
       "      <td>1995</td>\n",
       "      <td>[Comedy, Drama, Romance]</td>\n",
       "    </tr>\n",
       "    <tr>\n",
       "      <th>4</th>\n",
       "      <td>5</td>\n",
       "      <td>father of the bride part ii (1995)</td>\n",
       "      <td>Comedy</td>\n",
       "      <td>1995</td>\n",
       "      <td>[Comedy]</td>\n",
       "    </tr>\n",
       "    <tr>\n",
       "      <th>5</th>\n",
       "      <td>6</td>\n",
       "      <td>heat (1995)</td>\n",
       "      <td>Action|Crime|Thriller</td>\n",
       "      <td>1995</td>\n",
       "      <td>[Action, Crime, Thriller]</td>\n",
       "    </tr>\n",
       "    <tr>\n",
       "      <th>6</th>\n",
       "      <td>7</td>\n",
       "      <td>sabrina (1995)</td>\n",
       "      <td>Comedy|Romance</td>\n",
       "      <td>1995</td>\n",
       "      <td>[Comedy, Romance]</td>\n",
       "    </tr>\n",
       "    <tr>\n",
       "      <th>7</th>\n",
       "      <td>8</td>\n",
       "      <td>tom and huck (1995)</td>\n",
       "      <td>Adventure|Children</td>\n",
       "      <td>1995</td>\n",
       "      <td>[Adventure, Children]</td>\n",
       "    </tr>\n",
       "    <tr>\n",
       "      <th>8</th>\n",
       "      <td>9</td>\n",
       "      <td>sudden death (1995)</td>\n",
       "      <td>Action</td>\n",
       "      <td>1995</td>\n",
       "      <td>[Action]</td>\n",
       "    </tr>\n",
       "    <tr>\n",
       "      <th>9</th>\n",
       "      <td>10</td>\n",
       "      <td>goldeneye (1995)</td>\n",
       "      <td>Action|Adventure|Thriller</td>\n",
       "      <td>1995</td>\n",
       "      <td>[Action, Adventure, Thriller]</td>\n",
       "    </tr>\n",
       "  </tbody>\n",
       "</table>\n",
       "</div>"
      ],
      "text/plain": [
       "   movieId                               title  \\\n",
       "0        1                    toy story (1995)   \n",
       "1        2                      jumanji (1995)   \n",
       "2        3             grumpier old men (1995)   \n",
       "3        4            waiting to exhale (1995)   \n",
       "4        5  father of the bride part ii (1995)   \n",
       "5        6                         heat (1995)   \n",
       "6        7                      sabrina (1995)   \n",
       "7        8                 tom and huck (1995)   \n",
       "8        9                 sudden death (1995)   \n",
       "9       10                    goldeneye (1995)   \n",
       "\n",
       "                                        genres  year  \\\n",
       "0  Adventure|Animation|Children|Comedy|Fantasy  1995   \n",
       "1                   Adventure|Children|Fantasy  1995   \n",
       "2                               Comedy|Romance  1995   \n",
       "3                         Comedy|Drama|Romance  1995   \n",
       "4                                       Comedy  1995   \n",
       "5                        Action|Crime|Thriller  1995   \n",
       "6                               Comedy|Romance  1995   \n",
       "7                           Adventure|Children  1995   \n",
       "8                                       Action  1995   \n",
       "9                    Action|Adventure|Thriller  1995   \n",
       "\n",
       "                                          genre_list  \n",
       "0  [Adventure, Animation, Children, Comedy, Fantasy]  \n",
       "1                     [Adventure, Children, Fantasy]  \n",
       "2                                  [Comedy, Romance]  \n",
       "3                           [Comedy, Drama, Romance]  \n",
       "4                                           [Comedy]  \n",
       "5                          [Action, Crime, Thriller]  \n",
       "6                                  [Comedy, Romance]  \n",
       "7                              [Adventure, Children]  \n",
       "8                                           [Action]  \n",
       "9                      [Action, Adventure, Thriller]  "
      ]
     },
     "metadata": {},
     "output_type": "display_data"
    }
   ],
   "source": [
    "display(genre_counts.head(10))\n",
    "display(movies.head(10))"
   ]
  },
  {
   "cell_type": "code",
   "execution_count": 213,
   "id": "cbdfc686-b924-430b-b5cc-5c8a2cc0c00d",
   "metadata": {},
   "outputs": [
    {
     "data": {
      "text/html": [
       "<div>\n",
       "<style scoped>\n",
       "    .dataframe tbody tr th:only-of-type {\n",
       "        vertical-align: middle;\n",
       "    }\n",
       "\n",
       "    .dataframe tbody tr th {\n",
       "        vertical-align: top;\n",
       "    }\n",
       "\n",
       "    .dataframe thead th {\n",
       "        text-align: right;\n",
       "    }\n",
       "</style>\n",
       "<table border=\"1\" class=\"dataframe\">\n",
       "  <thead>\n",
       "    <tr style=\"text-align: right;\">\n",
       "      <th></th>\n",
       "      <th>movieId</th>\n",
       "      <th>title</th>\n",
       "      <th>genres</th>\n",
       "      <th>year</th>\n",
       "      <th>genre_list</th>\n",
       "      <th>combined_features</th>\n",
       "    </tr>\n",
       "  </thead>\n",
       "  <tbody>\n",
       "    <tr>\n",
       "      <th>0</th>\n",
       "      <td>1</td>\n",
       "      <td>toy story (1995)</td>\n",
       "      <td>Adventure|Animation|Children|Comedy|Fantasy</td>\n",
       "      <td>1995</td>\n",
       "      <td>[Adventure, Animation, Children, Comedy, Fantasy]</td>\n",
       "      <td>toy story (1995) Adventure|Animation|Children|...</td>\n",
       "    </tr>\n",
       "    <tr>\n",
       "      <th>1</th>\n",
       "      <td>2</td>\n",
       "      <td>jumanji (1995)</td>\n",
       "      <td>Adventure|Children|Fantasy</td>\n",
       "      <td>1995</td>\n",
       "      <td>[Adventure, Children, Fantasy]</td>\n",
       "      <td>jumanji (1995) Adventure|Children|Fantasy</td>\n",
       "    </tr>\n",
       "    <tr>\n",
       "      <th>2</th>\n",
       "      <td>3</td>\n",
       "      <td>grumpier old men (1995)</td>\n",
       "      <td>Comedy|Romance</td>\n",
       "      <td>1995</td>\n",
       "      <td>[Comedy, Romance]</td>\n",
       "      <td>grumpier old men (1995) Comedy|Romance</td>\n",
       "    </tr>\n",
       "    <tr>\n",
       "      <th>3</th>\n",
       "      <td>4</td>\n",
       "      <td>waiting to exhale (1995)</td>\n",
       "      <td>Comedy|Drama|Romance</td>\n",
       "      <td>1995</td>\n",
       "      <td>[Comedy, Drama, Romance]</td>\n",
       "      <td>waiting to exhale (1995) Comedy|Drama|Romance</td>\n",
       "    </tr>\n",
       "    <tr>\n",
       "      <th>4</th>\n",
       "      <td>5</td>\n",
       "      <td>father of the bride part ii (1995)</td>\n",
       "      <td>Comedy</td>\n",
       "      <td>1995</td>\n",
       "      <td>[Comedy]</td>\n",
       "      <td>father of the bride part ii (1995) Comedy</td>\n",
       "    </tr>\n",
       "    <tr>\n",
       "      <th>5</th>\n",
       "      <td>6</td>\n",
       "      <td>heat (1995)</td>\n",
       "      <td>Action|Crime|Thriller</td>\n",
       "      <td>1995</td>\n",
       "      <td>[Action, Crime, Thriller]</td>\n",
       "      <td>heat (1995) Action|Crime|Thriller</td>\n",
       "    </tr>\n",
       "    <tr>\n",
       "      <th>6</th>\n",
       "      <td>7</td>\n",
       "      <td>sabrina (1995)</td>\n",
       "      <td>Comedy|Romance</td>\n",
       "      <td>1995</td>\n",
       "      <td>[Comedy, Romance]</td>\n",
       "      <td>sabrina (1995) Comedy|Romance</td>\n",
       "    </tr>\n",
       "    <tr>\n",
       "      <th>7</th>\n",
       "      <td>8</td>\n",
       "      <td>tom and huck (1995)</td>\n",
       "      <td>Adventure|Children</td>\n",
       "      <td>1995</td>\n",
       "      <td>[Adventure, Children]</td>\n",
       "      <td>tom and huck (1995) Adventure|Children</td>\n",
       "    </tr>\n",
       "    <tr>\n",
       "      <th>8</th>\n",
       "      <td>9</td>\n",
       "      <td>sudden death (1995)</td>\n",
       "      <td>Action</td>\n",
       "      <td>1995</td>\n",
       "      <td>[Action]</td>\n",
       "      <td>sudden death (1995) Action</td>\n",
       "    </tr>\n",
       "    <tr>\n",
       "      <th>9</th>\n",
       "      <td>10</td>\n",
       "      <td>goldeneye (1995)</td>\n",
       "      <td>Action|Adventure|Thriller</td>\n",
       "      <td>1995</td>\n",
       "      <td>[Action, Adventure, Thriller]</td>\n",
       "      <td>goldeneye (1995) Action|Adventure|Thriller</td>\n",
       "    </tr>\n",
       "  </tbody>\n",
       "</table>\n",
       "</div>"
      ],
      "text/plain": [
       "   movieId                               title  \\\n",
       "0        1                    toy story (1995)   \n",
       "1        2                      jumanji (1995)   \n",
       "2        3             grumpier old men (1995)   \n",
       "3        4            waiting to exhale (1995)   \n",
       "4        5  father of the bride part ii (1995)   \n",
       "5        6                         heat (1995)   \n",
       "6        7                      sabrina (1995)   \n",
       "7        8                 tom and huck (1995)   \n",
       "8        9                 sudden death (1995)   \n",
       "9       10                    goldeneye (1995)   \n",
       "\n",
       "                                        genres  year  \\\n",
       "0  Adventure|Animation|Children|Comedy|Fantasy  1995   \n",
       "1                   Adventure|Children|Fantasy  1995   \n",
       "2                               Comedy|Romance  1995   \n",
       "3                         Comedy|Drama|Romance  1995   \n",
       "4                                       Comedy  1995   \n",
       "5                        Action|Crime|Thriller  1995   \n",
       "6                               Comedy|Romance  1995   \n",
       "7                           Adventure|Children  1995   \n",
       "8                                       Action  1995   \n",
       "9                    Action|Adventure|Thriller  1995   \n",
       "\n",
       "                                          genre_list  \\\n",
       "0  [Adventure, Animation, Children, Comedy, Fantasy]   \n",
       "1                     [Adventure, Children, Fantasy]   \n",
       "2                                  [Comedy, Romance]   \n",
       "3                           [Comedy, Drama, Romance]   \n",
       "4                                           [Comedy]   \n",
       "5                          [Action, Crime, Thriller]   \n",
       "6                                  [Comedy, Romance]   \n",
       "7                              [Adventure, Children]   \n",
       "8                                           [Action]   \n",
       "9                      [Action, Adventure, Thriller]   \n",
       "\n",
       "                                   combined_features  \n",
       "0  toy story (1995) Adventure|Animation|Children|...  \n",
       "1          jumanji (1995) Adventure|Children|Fantasy  \n",
       "2             grumpier old men (1995) Comedy|Romance  \n",
       "3      waiting to exhale (1995) Comedy|Drama|Romance  \n",
       "4          father of the bride part ii (1995) Comedy  \n",
       "5                  heat (1995) Action|Crime|Thriller  \n",
       "6                      sabrina (1995) Comedy|Romance  \n",
       "7             tom and huck (1995) Adventure|Children  \n",
       "8                         sudden death (1995) Action  \n",
       "9         goldeneye (1995) Action|Adventure|Thriller  "
      ]
     },
     "metadata": {},
     "output_type": "display_data"
    }
   ],
   "source": [
    "# Combine relevant features\n",
    "movies['combined_features'] = movies['title'] + \" \" + movies['genres']\n",
    "display(movies.head(10))"
   ]
  },
  {
   "cell_type": "code",
   "execution_count": 217,
   "id": "17d5e891-2408-42bf-9965-e0bdeece2d52",
   "metadata": {},
   "outputs": [],
   "source": [
    "# Save Cleaned Data\n",
    "\n",
    "movies.to_csv('../data/cleaned_movies.csv', index=False)\n",
    "ratings.to_csv('../data/cleaned_ratings.csv', index=False)"
   ]
  },
  {
   "cell_type": "code",
   "execution_count": 221,
   "id": "2bd8479b-0122-471b-9d10-b9bf516361ce",
   "metadata": {},
   "outputs": [
    {
     "name": "stdout",
     "output_type": "stream",
     "text": [
      "Ratings Shape: (31842705, 4)\n",
      "Movies Shape: (87382, 6)\n"
     ]
    }
   ],
   "source": [
    "# In the next few steps, we remap movie and ratings indexes for consistency and memory efficiency when working with matrices and vectors\n",
    "\n",
    "import pandas as pd\n",
    "\n",
    "# Load cleaned ratings data\n",
    "ratings = pd.read_csv('../data/cleaned_ratings.csv')\n",
    "movies = pd.read_csv('../data/cleaned_movies.csv')\n",
    "\n",
    "print(\"Ratings Shape:\", ratings.shape)\n",
    "print(\"Movies Shape:\", movies.shape)"
   ]
  },
  {
   "cell_type": "code",
   "execution_count": 225,
   "id": "5bf3e9f9-729d-42f2-9f31-5e80d9991a7f",
   "metadata": {},
   "outputs": [
    {
     "name": "stdout",
     "output_type": "stream",
     "text": [
      "Unique movie IDs from movies :  87382\n",
      "Max Movie ID from movies :  292757 \n",
      "\n",
      "Unique movie IDs from ratings :  31961\n",
      "Max Movie ID from ratings :  292349 \n",
      "\n",
      "Unique User IDs from ratings :  200948 \n",
      "\n",
      "Key : Value mapping for sequential movie IDs\n",
      "Index: 0, Value: 17\n",
      "Index: 1, Value: 25\n",
      "Index: 2, Value: 29\n",
      "Index: 3, Value: 30\n",
      "Index: 4, Value: 32\n",
      "Index: 5, Value: 34\n",
      "Index: 6, Value: 36\n",
      "Index: 7, Value: 80\n",
      "Index: 8, Value: 110\n",
      "Index: 9, Value: 111\n"
     ]
    }
   ],
   "source": [
    "# Check if Movie IDs are unique and sequential\n",
    "print(\"Unique movie IDs from movies : \", movies['movieId'].nunique())\n",
    "print(\"Max Movie ID from movies : \", movies['movieId'].max(), \"\\n\")\n",
    "\n",
    "print(\"Unique movie IDs from ratings : \", ratings['movieId'].nunique())  # Should match the total number of unique movies\n",
    "print(\"Max Movie ID from ratings : \", ratings['movieId'].max(), \"\\n\")     # Should equal ratings['movieId'].nunique() - 1\n",
    "\n",
    "print(\"Unique User IDs from ratings : \", ratings['userId'].nunique(), \"\\n\") \n",
    "\n",
    "unique_movie_ids = ratings['movieId'].unique()\n",
    "print(\"Key : Value mapping for sequential movie IDs\")\n",
    "for index, value in enumerate(unique_movie_ids[:10]):\n",
    "    print(f\"Index: {index}, Value: {value}\")"
   ]
  },
  {
   "cell_type": "code",
   "execution_count": 227,
   "id": "f437a445-e1c3-443b-8071-11502dbf08bd",
   "metadata": {},
   "outputs": [
    {
     "name": "stdout",
     "output_type": "stream",
     "text": [
      "Max Movie ID from ratings :  31960 \n",
      "\n",
      "\n"
     ]
    }
   ],
   "source": [
    "# A sparse matrix with 292,350 columns for only 31,961 unique movies wastes memory. \n",
    "# The additional empty columns increase computation time for operations like matrix factorization.\n",
    "# Other parts of the recommendation system (like movies metadata) rely on sequential indices so this misalignment will cause issues when mapping between datasets.\n",
    "# To fix this, we will need to remap movieId values to sequential indices in the next step\n",
    "\n",
    "\n",
    "# Create a mapping of unique movie IDs to sequential indices\n",
    "# unique_movie_ids = ratings['movieId'].unique()\n",
    "movie_id_map = {old_id: new_id for new_id, old_id in enumerate(unique_movie_ids)}\n",
    "\n",
    "# Apply the mapping\n",
    "ratings['movieId'] = ratings['movieId'].map(movie_id_map)\n",
    "print(\"Max Movie ID from ratings : \", ratings['movieId'].max(), \"\\n\\n\")"
   ]
  },
  {
   "cell_type": "code",
   "execution_count": 229,
   "id": "cb8ff53e-c03c-484f-a3fb-11fb3cd03d21",
   "metadata": {},
   "outputs": [
    {
     "name": "stdout",
     "output_type": "stream",
     "text": [
      "Max Movie ID from movies :  31960.0 \n",
      "\n",
      "\n"
     ]
    }
   ],
   "source": [
    "''' Since we have remapped movie IDs in ratings to be sequential, we also need to do the same for movies['movieId'] using the same mapping because:\n",
    "# 1. We will be looking up movies by the same ID in movies['movieId'] so alignment is crucial\n",
    "# 2. Since ratings['movieId'] has been remapped, the original movieId values are replaced. Without remapping movies['movieId'], \n",
    "we would lose the ability to map recommendations back to their metadata (e.g., titles).\n",
    "# 3. Misaligned IDs can lead to incorrect recommendations because the indices will point to the wrong rows in movies.\n",
    "# We will follow the same pattern we used for ratings\n",
    "'''\n",
    "\n",
    "movies['movieId'] = movies['movieId'].map(movie_id_map)\n",
    "print(\"Max Movie ID from movies : \", movies['movieId'].max(), \"\\n\\n\")"
   ]
  },
  {
   "cell_type": "code",
   "execution_count": 231,
   "id": "18697141-8577-45ea-acb6-0cec0d41a8f1",
   "metadata": {},
   "outputs": [
    {
     "name": "stdout",
     "output_type": "stream",
     "text": [
      "Saved remapped movies and ratings !!!\n"
     ]
    }
   ],
   "source": [
    "# Save remapped movie and ratings datasets\n",
    "ratings.to_csv('../data/cleaned_remapped_ratings.csv', index=False)\n",
    "movies.to_csv('../data/cleaned_remapped_movies.csv', index=False)\n",
    "\n",
    "print(\"Saved remapped movies and ratings !!!\")"
   ]
  },
  {
   "cell_type": "code",
   "execution_count": null,
   "id": "e2a519ee-89f0-45f5-a69f-ac96fc300cb4",
   "metadata": {},
   "outputs": [],
   "source": []
  }
 ],
 "metadata": {
  "kernelspec": {
   "display_name": "Python [conda env:base] *",
   "language": "python",
   "name": "conda-base-py"
  },
  "language_info": {
   "codemirror_mode": {
    "name": "ipython",
    "version": 3
   },
   "file_extension": ".py",
   "mimetype": "text/x-python",
   "name": "python",
   "nbconvert_exporter": "python",
   "pygments_lexer": "ipython3",
   "version": "3.12.4"
  }
 },
 "nbformat": 4,
 "nbformat_minor": 5
}
