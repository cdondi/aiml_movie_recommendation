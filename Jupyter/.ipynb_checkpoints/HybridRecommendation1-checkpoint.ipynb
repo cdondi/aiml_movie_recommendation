{
 "cells": [
  {
   "cell_type": "code",
   "execution_count": 3,
   "id": "2905681a-7681-4553-b2e1-14aeef7f56e4",
   "metadata": {},
   "outputs": [
    {
     "name": "stdout",
     "output_type": "stream",
     "text": [
      "Ratings Shape: (31842705, 4)\n"
     ]
    }
   ],
   "source": [
    "import pandas as pd\n",
    "\n",
    "# Load cleaned ratings data\n",
    "ratings = pd.read_csv('data/cleaned_ratings.csv')\n",
    "\n",
    "print(\"Ratings Shape:\", ratings.shape)\n"
   ]
  },
  {
   "cell_type": "code",
   "execution_count": 7,
   "id": "4d592171-8520-4744-a503-fb4a8a6a40a8",
   "metadata": {},
   "outputs": [
    {
     "name": "stdout",
     "output_type": "stream",
     "text": [
      "Shape of user-item interaction matrix: (200948, 31961)\n"
     ]
    }
   ],
   "source": [
    "num_users = ratings['userId'].nunique()  # Unique users\n",
    "num_movies = ratings['movieId'].nunique()  # Unique movies\n",
    "\n",
    "print(\"Shape of user-item interaction matrix:\", (num_users, num_movies))"
   ]
  },
  {
   "cell_type": "code",
   "execution_count": 11,
   "id": "847086b9-72a5-4d10-86d6-74bad5b3b30e",
   "metadata": {},
   "outputs": [
    {
     "name": "stdout",
     "output_type": "stream",
     "text": [
      "User-Movie Interaction Matrix Shape: (200949, 292350)\n"
     ]
    }
   ],
   "source": [
    "from scipy.sparse import csr_matrix\n",
    "\n",
    "# Create user-item interaction matrix\n",
    "# user_movie_matrix = ratings.pivot(index='userId', columns='movieId', values='rating').fillna(0)\n",
    "\n",
    "user_movie_matrix = csr_matrix(\n",
    "    (ratings['rating'], (ratings['userId'], ratings['movieId']))\n",
    ")\n",
    "\n",
    "print(\"User-Movie Interaction Matrix Shape:\", user_movie_matrix.shape)"
   ]
  },
  {
   "cell_type": "code",
   "execution_count": 27,
   "id": "b28c408b-d945-4003-aa7a-bd95c14e9c36",
   "metadata": {},
   "outputs": [
    {
     "name": "stdout",
     "output_type": "stream",
     "text": [
      "Saved user latent factors to 'models/user_factors.npy'.\n",
      "Saved movie latent factors to 'models/movie_factors.npy'.\n",
      "User factors shape: (200949, 50)\n",
      "Movie factors shape: (292350, 50)\n",
      "SVD model saved as 'models/svd_model.pkl'.\n"
     ]
    }
   ],
   "source": [
    "import pickle\n",
    "from sklearn.decomposition import TruncatedSVD\n",
    "\n",
    "# Perform SVD\n",
    "svd = TruncatedSVD(n_components=50, random_state=42)  # 50 latent factors\n",
    "\n",
    "user_factors = svd.fit_transform(user_movie_matrix)\n",
    "# Save user factors\n",
    "np.save(\"models/user_factors.npy\", user_factors)\n",
    "print(\"Saved user latent factors to 'models/user_factors.npy'.\")\n",
    "\n",
    "\n",
    "movie_factors = svd.components_.T\n",
    "# Save movie factors\n",
    "np.save(\"models/movie_factors.npy\", movie_factors)\n",
    "print(\"Saved movie latent factors to 'models/movie_factors.npy'.\")\n",
    "\n",
    "print(\"User factors shape:\", user_factors.shape)\n",
    "print(\"Movie factors shape:\", movie_factors.shape)\n",
    "\n",
    "\n",
    "# Save the SVD model to a file\n",
    "with open(\"models/svd_model.pkl\", \"wb\") as f:\n",
    "    pickle.dump(svd, f)\n",
    "\n",
    "print(\"SVD model saved as 'models/svd_model.pkl'.\")"
   ]
  },
  {
   "cell_type": "code",
   "execution_count": 17,
   "id": "e250991a-9b63-4158-a972-07860047aa4a",
   "metadata": {},
   "outputs": [],
   "source": [
    "import numpy as np\n",
    "\n",
    "def recommend_collaborative(user_id, num_recommendations=10):\n",
    "    # Get user vector\n",
    "    user_vector = user_factors[user_id - 1]  # Assuming user IDs start at 1\n",
    "\n",
    "    # Compute scores for all movies\n",
    "    scores = np.dot(movie_factors, user_vector)\n",
    "\n",
    "    # Get top movie indices\n",
    "    recommended_movie_indices = np.argsort(scores)[::-1][:num_recommendations]\n",
    "\n",
    "    # Map indices back to movie IDs\n",
    "    recommended_movie_ids = [movies.iloc[i]['movieId'] for i in recommended_movie_indices]\n",
    "    return movies[movies['movieId'].isin(recommended_movie_ids)]['title']"
   ]
  },
  {
   "cell_type": "code",
   "execution_count": 21,
   "id": "4f062103-0796-4167-bc38-7c2e4bf6c61c",
   "metadata": {},
   "outputs": [],
   "source": [
    "# Blend content-based and collaborative filtering outputs using weighted scores\n",
    "def recommend_hybrid(title, user_id, num_recommendations=10, content_weight=0.5, collab_weight=0.5):\n",
    "    # Content-based recommendations\n",
    "    content_indices = movie_indices[title]\n",
    "    content_scores = cosine_sim[content_indices]\n",
    "\n",
    "    # Collaborative recommendations\n",
    "    user_vector = user_factors[user_id - 1]\n",
    "    collab_scores = np.dot(movie_factors, user_vector)\n",
    "\n",
    "    # Combine scores\n",
    "    combined_scores = content_weight * content_scores + collab_weight * collab_scores\n",
    "\n",
    "    # Get top movie indices\n",
    "    recommended_movie_indices = np.argsort(combined_scores)[::-1][:num_recommendations]\n",
    "    return movies.iloc[recommended_movie_indices]['title']"
   ]
  },
  {
   "cell_type": "code",
   "execution_count": null,
   "id": "25d706df-7d3a-4f28-8961-54935c78887b",
   "metadata": {},
   "outputs": [],
   "source": []
  }
 ],
 "metadata": {
  "kernelspec": {
   "display_name": "Python [conda env:base] *",
   "language": "python",
   "name": "conda-base-py"
  },
  "language_info": {
   "codemirror_mode": {
    "name": "ipython",
    "version": 3
   },
   "file_extension": ".py",
   "mimetype": "text/x-python",
   "name": "python",
   "nbconvert_exporter": "python",
   "pygments_lexer": "ipython3",
   "version": "3.12.4"
  }
 },
 "nbformat": 4,
 "nbformat_minor": 5
}
